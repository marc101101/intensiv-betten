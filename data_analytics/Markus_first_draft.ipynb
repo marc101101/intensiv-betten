{
 "cells": [
  {
   "cell_type": "code",
   "execution_count": 77,
   "metadata": {},
   "outputs": [],
   "source": [
    "import os\n",
    "import pandas as pd\n",
    "import matplotlib.pyplot as plt\n",
    "import matplotlib.image as mpimg\n",
    "import matplotlib.patches as patches\n",
    "from IPython.display import display, HTML\n",
    "import numpy as np\n",
    "import json\n",
    "from scipy import stats\n",
    "import math\n",
    "\n",
    "from datetime import datetime\n",
    "plt.rcParams[\"figure.figsize\"] = (17, 5) # (w, h)"
   ]
  },
  {
   "cell_type": "code",
   "execution_count": 92,
   "metadata": {},
   "outputs": [],
   "source": [
    "root = '../data_storage'\n",
    "file_names = []\n",
    "dates = []\n",
    "\n",
    "for subdir, dirs, files in os.walk(root):\n",
    "    for file in files:\n",
    "        file_names.append(os.path.join(subdir, file).replace('\\\\', '/'))\n",
    "        \n",
    "        datetime_object = datetime.strptime(file[5:-9], '%d %b %Y %H:%M:%S')\n",
    "        dates.append(datetime_object)\n",
    "        \n",
    "youngest = max(dates)\n",
    "\n",
    "for file in files:\n",
    "    datetime_object = datetime.strptime(file[5:-9], '%d %b %Y %H:%M:%S')\n",
    "    if(datetime_object == youngest):\n",
    "        youngest = '../data_storage/' + file"
   ]
  },
  {
   "cell_type": "code",
   "execution_count": 96,
   "metadata": {},
   "outputs": [],
   "source": [
    "main_frame = pd.DataFrame()\n",
    "\n",
    "for f in file_names:\n",
    "    df = pd.read_json(f)\n",
    "    main_frame = main_frame.append(df)\n",
    "    \n",
    "youngest_frame = pd.read_json(youngest)"
   ]
  },
  {
   "cell_type": "code",
   "execution_count": 22,
   "metadata": {},
   "outputs": [
    {
     "data": {
      "text/html": [
       "<div>\n",
       "<style scoped>\n",
       "    .dataframe tbody tr th:only-of-type {\n",
       "        vertical-align: middle;\n",
       "    }\n",
       "\n",
       "    .dataframe tbody tr th {\n",
       "        vertical-align: top;\n",
       "    }\n",
       "\n",
       "    .dataframe thead th {\n",
       "        text-align: right;\n",
       "    }\n",
       "</style>\n",
       "<table border=\"1\" class=\"dataframe\">\n",
       "  <thead>\n",
       "    <tr style=\"text-align: right;\">\n",
       "      <th></th>\n",
       "      <th>hospital</th>\n",
       "      <th>contact</th>\n",
       "      <th>fed</th>\n",
       "      <th>icu_low_care</th>\n",
       "      <th>icu_high_care</th>\n",
       "      <th>updated</th>\n",
       "      <th>ecmo</th>\n",
       "    </tr>\n",
       "  </thead>\n",
       "  <tbody>\n",
       "    <tr>\n",
       "      <th>0</th>\n",
       "      <td>Dreifaltigkeits-Krankenhaus Wesseling, Anästhe...</td>\n",
       "      <td>Intensivstation Website</td>\n",
       "      <td>NRW</td>\n",
       "      <td>green</td>\n",
       "      <td>yellow</td>\n",
       "      <td>26.03.2020, 18:00</td>\n",
       "      <td>NaN</td>\n",
       "    </tr>\n",
       "    <tr>\n",
       "      <th>1</th>\n",
       "      <td>Klinikum Bamberg Medizinische Klinik I/Intensi...</td>\n",
       "      <td>Intensivstation II Website</td>\n",
       "      <td>BY</td>\n",
       "      <td>green</td>\n",
       "      <td>green</td>\n",
       "      <td>26.03.2020, 19:44</td>\n",
       "      <td>green</td>\n",
       "    </tr>\n",
       "    <tr>\n",
       "      <th>2</th>\n",
       "      <td>Klinikum Altmühlfranken Gunzenhausen, Albert-S...</td>\n",
       "      <td>Website</td>\n",
       "      <td>BY</td>\n",
       "      <td>red</td>\n",
       "      <td>yellow</td>\n",
       "      <td>26.03.2020, 16:55</td>\n",
       "      <td>NaN</td>\n",
       "    </tr>\n",
       "    <tr>\n",
       "      <th>3</th>\n",
       "      <td>Kliniken der Stadt Köln gGmbH - Krankenhaus Me...</td>\n",
       "      <td>ITS 115i Website</td>\n",
       "      <td>NRW</td>\n",
       "      <td>green</td>\n",
       "      <td>green</td>\n",
       "      <td>26.03.2020, 16:41</td>\n",
       "      <td>NaN</td>\n",
       "    </tr>\n",
       "    <tr>\n",
       "      <th>4</th>\n",
       "      <td>Marien Hospital Düsseldorf, Innere Medizin / A...</td>\n",
       "      <td>Interdisziplinäre Intensivstation Website</td>\n",
       "      <td>NRW</td>\n",
       "      <td>green</td>\n",
       "      <td>green</td>\n",
       "      <td>26.03.2020, 16:03</td>\n",
       "      <td>NaN</td>\n",
       "    </tr>\n",
       "    <tr>\n",
       "      <th>...</th>\n",
       "      <td>...</td>\n",
       "      <td>...</td>\n",
       "      <td>...</td>\n",
       "      <td>...</td>\n",
       "      <td>...</td>\n",
       "      <td>...</td>\n",
       "      <td>...</td>\n",
       "    </tr>\n",
       "    <tr>\n",
       "      <th>690</th>\n",
       "      <td>Universitätsklinikum Gießen / Marburg, Rudolf-...</td>\n",
       "      <td>Website</td>\n",
       "      <td>HE</td>\n",
       "      <td>green</td>\n",
       "      <td>green</td>\n",
       "      <td>18.03.2020, 14:01</td>\n",
       "      <td>green</td>\n",
       "    </tr>\n",
       "    <tr>\n",
       "      <th>691</th>\n",
       "      <td>Universitätsklinikum Dresden, Klinik für Anäst...</td>\n",
       "      <td>ARDS/ECMO Zentrum Dresden (ANE-ITS) Website</td>\n",
       "      <td>SN</td>\n",
       "      <td>green</td>\n",
       "      <td>green</td>\n",
       "      <td>25.03.2020, 13:56</td>\n",
       "      <td>green</td>\n",
       "    </tr>\n",
       "    <tr>\n",
       "      <th>692</th>\n",
       "      <td>Universitätsklinikum Bonn, Klinik und Poliklin...</td>\n",
       "      <td>Operative Intensivmedizin Website</td>\n",
       "      <td>NRW</td>\n",
       "      <td>green</td>\n",
       "      <td>green</td>\n",
       "      <td>25.03.2020, 13:17</td>\n",
       "      <td>green</td>\n",
       "    </tr>\n",
       "    <tr>\n",
       "      <th>693</th>\n",
       "      <td>Helios Klinikum Bad Saarow, Klinik für Anästhe...</td>\n",
       "      <td>ITS 1, ITS 2, ITS 3 Website</td>\n",
       "      <td>BB</td>\n",
       "      <td>yellow</td>\n",
       "      <td>green</td>\n",
       "      <td>27.03.2020, 06:44</td>\n",
       "      <td>green</td>\n",
       "    </tr>\n",
       "    <tr>\n",
       "      <th>694</th>\n",
       "      <td>Charité - Universitätsmedizin Berlin, ARDS/ECM...</td>\n",
       "      <td>8i/144i/43i Website</td>\n",
       "      <td>BE</td>\n",
       "      <td>green</td>\n",
       "      <td>green</td>\n",
       "      <td>24.03.2020, 10:21</td>\n",
       "      <td>green</td>\n",
       "    </tr>\n",
       "  </tbody>\n",
       "</table>\n",
       "<p>16421 rows × 7 columns</p>\n",
       "</div>"
      ],
      "text/plain": [
       "                                              hospital  \\\n",
       "0    Dreifaltigkeits-Krankenhaus Wesseling, Anästhe...   \n",
       "1    Klinikum Bamberg Medizinische Klinik I/Intensi...   \n",
       "2    Klinikum Altmühlfranken Gunzenhausen, Albert-S...   \n",
       "3    Kliniken der Stadt Köln gGmbH - Krankenhaus Me...   \n",
       "4    Marien Hospital Düsseldorf, Innere Medizin / A...   \n",
       "..                                                 ...   \n",
       "690  Universitätsklinikum Gießen / Marburg, Rudolf-...   \n",
       "691  Universitätsklinikum Dresden, Klinik für Anäst...   \n",
       "692  Universitätsklinikum Bonn, Klinik und Poliklin...   \n",
       "693  Helios Klinikum Bad Saarow, Klinik für Anästhe...   \n",
       "694  Charité - Universitätsmedizin Berlin, ARDS/ECM...   \n",
       "\n",
       "                                         contact  fed icu_low_care  \\\n",
       "0                        Intensivstation Website  NRW        green   \n",
       "1                     Intensivstation II Website   BY        green   \n",
       "2                                        Website   BY          red   \n",
       "3                               ITS 115i Website  NRW        green   \n",
       "4      Interdisziplinäre Intensivstation Website  NRW        green   \n",
       "..                                           ...  ...          ...   \n",
       "690                                      Website   HE        green   \n",
       "691  ARDS/ECMO Zentrum Dresden (ANE-ITS) Website   SN        green   \n",
       "692            Operative Intensivmedizin Website  NRW        green   \n",
       "693                  ITS 1, ITS 2, ITS 3 Website   BB       yellow   \n",
       "694                          8i/144i/43i Website   BE        green   \n",
       "\n",
       "    icu_high_care            updated   ecmo  \n",
       "0          yellow  26.03.2020, 18:00    NaN  \n",
       "1           green  26.03.2020, 19:44  green  \n",
       "2          yellow  26.03.2020, 16:55    NaN  \n",
       "3           green  26.03.2020, 16:41    NaN  \n",
       "4           green  26.03.2020, 16:03    NaN  \n",
       "..            ...                ...    ...  \n",
       "690         green  18.03.2020, 14:01  green  \n",
       "691         green  25.03.2020, 13:56  green  \n",
       "692         green  25.03.2020, 13:17  green  \n",
       "693         green  27.03.2020, 06:44  green  \n",
       "694         green  24.03.2020, 10:21  green  \n",
       "\n",
       "[16421 rows x 7 columns]"
      ]
     },
     "execution_count": 22,
     "metadata": {},
     "output_type": "execute_result"
    }
   ],
   "source": [
    "main_frame"
   ]
  },
  {
   "cell_type": "markdown",
   "metadata": {},
   "source": [
    "# Anzahl der Krankenhäuser pro Bundesland"
   ]
  },
  {
   "cell_type": "code",
   "execution_count": 26,
   "metadata": {},
   "outputs": [
    {
     "data": {
      "text/plain": [
       "<matplotlib.axes._subplots.AxesSubplot at 0x11b2b3550>"
      ]
     },
     "execution_count": 26,
     "metadata": {},
     "output_type": "execute_result"
    },
    {
     "data": {
      "image/png": "[encoded data removed]",
      "text/plain": [
       "<Figure size 1224x360 with 1 Axes>"
      ]
     },
     "metadata": {
      "needs_background": "light"
     },
     "output_type": "display_data"
    }
   ],
   "source": [
    "fed_count = pd.DataFrame({'count' : main_frame.groupby('fed').count()['hospital']}).reset_index()\n",
    "fed_count = fed_count.sort_values(by=['count'], ascending=False)\n",
    "fed_count = fed_count.set_index('fed')\n",
    "\n",
    "fed_count.plot(kind='bar')"
   ]
  },
  {
   "cell_type": "markdown",
   "metadata": {},
   "source": [
    "# Anzahl der Betten - Intensivbetten ohne invasive Beatmungsmöglichkeit (Monitoring, Überwachung, ggf. nicht-invasive Beatmung möglich)"
   ]
  },
  {
   "cell_type": "code",
   "execution_count": 97,
   "metadata": {},
   "outputs": [
    {
     "data": {
      "text/plain": [
       "<matplotlib.axes._subplots.AxesSubplot at 0x11cdbd890>"
      ]
     },
     "execution_count": 97,
     "metadata": {},
     "output_type": "execute_result"
    },
    {
     "data": {
      "image/png": "[encoded data removed]",
      "text/plain": [
       "<Figure size 1224x360 with 1 Axes>"
      ]
     },
     "metadata": {
      "needs_background": "light"
     },
     "output_type": "display_data"
    }
   ],
   "source": [
    "status_icu_low_care_count = pd.DataFrame({'count' : youngest_frame.groupby('icu_low_care').count()['hospital']}).reset_index()\n",
    "status_icu_low_care_count  = status_icu_low_care_count.set_index('icu_low_care')\n",
    "\n",
    "status_icu_low_care_count.transpose().plot(kind=\"bar\", color=['green', 'red', 'yellow'])"
   ]
  },
  {
   "cell_type": "markdown",
   "metadata": {},
   "source": [
    "# Anzahl der Betten - Intensivbetten mit invasiver Beatmungsmöglichkeit (Beatmungsbetten)"
   ]
  },
  {
   "cell_type": "code",
   "execution_count": 98,
   "metadata": {},
   "outputs": [
    {
     "data": {
      "text/plain": [
       "<matplotlib.axes._subplots.AxesSubplot at 0x11d495ed0>"
      ]
     },
     "execution_count": 98,
     "metadata": {},
     "output_type": "execute_result"
    },
    {
     "data": {
      "image/png": "[encoded data removed]",
      "text/plain": [
       "<Figure size 1224x360 with 1 Axes>"
      ]
     },
     "metadata": {
      "needs_background": "light"
     },
     "output_type": "display_data"
    }
   ],
   "source": [
    "status_icu_high_care_count = pd.DataFrame({'count' : youngest_frame.groupby('icu_high_care').count()['hospital']}).reset_index()\n",
    "status_icu_high_care_count  = status_icu_high_care_count.set_index('icu_high_care')\n",
    "\n",
    "status_icu_high_care_count.transpose().plot(kind=\"bar\", color=['green', 'red', 'yellow'])\n",
    "\n"
   ]
  },
  {
   "cell_type": "code",
   "execution_count": null,
   "metadata": {},
   "outputs": [],
   "source": []
  }
 ],
 "metadata": {
  "kernelspec": {
   "display_name": "Python 3",
   "language": "python",
   "name": "python3"
  },
  "language_info": {
   "codemirror_mode": {
    "name": "ipython",
    "version": 3
   },
   "file_extension": ".py",
   "mimetype": "text/x-python",
   "name": "python",
   "nbconvert_exporter": "python",
   "pygments_lexer": "ipython3",
   "version": "3.7.5"
  }
 },
 "nbformat": 4,
 "nbformat_minor": 4
}
