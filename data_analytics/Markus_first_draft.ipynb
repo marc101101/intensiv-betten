{
 "cells": [
  {
   "cell_type": "code",
   "execution_count": 1,
   "metadata": {},
   "outputs": [],
   "source": [
    "import os\n",
    "import pandas as pd\n",
    "import matplotlib.pyplot as plt\n",
    "import matplotlib.image as mpimg\n",
    "import matplotlib.patches as patches\n",
    "from IPython.display import display, HTML\n",
    "import numpy as np\n",
    "import json\n",
    "from scipy import stats\n",
    "import math\n",
    "\n",
    "from datetime import datetime\n",
    "plt.rcParams[\"figure.figsize\"] = (17, 5) # (w, h)"
   ]
  },
  {
   "cell_type": "code",
   "execution_count": 45,
   "metadata": {},
   "outputs": [],
   "source": [
    "root = '../data_storage'\n",
    "file_names = []\n",
    "dates = []\n",
    "\n",
    "for subdir, dirs, files in os.walk(root):\n",
    "    for file in files:\n",
    "        file_names.append(os.path.join(subdir, file).replace('\\\\', '/'))\n",
    "        \n",
    "        datetime_object = datetime.strptime(file[5:-9], '%d %b %Y %H:%M:%S')\n",
    "        dates.append(datetime_object)\n",
    "        \n",
    "youngest = max(dates)\n",
    "\n",
    "for file in files:\n",
    "    datetime_object = datetime.strptime(file[5:-9], '%d %b %Y %H:%M:%S')\n",
    "    if(datetime_object == youngest):\n",
    "        youngest = '../data_storage/' + file"
   ]
  },
  {
   "cell_type": "code",
   "execution_count": 47,
   "metadata": {},
   "outputs": [],
   "source": [
    "main_frame = pd.DataFrame()\n",
    "\n",
    "for f in file_names:\n",
    "    df = pd.read_json(f)\n",
    "    df['created_at'] = datetime.strptime(f[21:-9], '%d %b %Y %H:%M:%S')\n",
    "    main_frame = main_frame.append(df)\n",
    "    \n",
    "youngest_frame = pd.read_json(youngest)\n"
   ]
  },
  {
   "cell_type": "code",
   "execution_count": 48,
   "metadata": {},
   "outputs": [
    {
     "data": {
      "text/html": [
       "<div>\n",
       "<style scoped>\n",
       "    .dataframe tbody tr th:only-of-type {\n",
       "        vertical-align: middle;\n",
       "    }\n",
       "\n",
       "    .dataframe tbody tr th {\n",
       "        vertical-align: top;\n",
       "    }\n",
       "\n",
       "    .dataframe thead th {\n",
       "        text-align: right;\n",
       "    }\n",
       "</style>\n",
       "<table border=\"1\" class=\"dataframe\">\n",
       "  <thead>\n",
       "    <tr style=\"text-align: right;\">\n",
       "      <th></th>\n",
       "      <th>hospital</th>\n",
       "      <th>contact</th>\n",
       "      <th>fed</th>\n",
       "      <th>icu_low_care</th>\n",
       "      <th>icu_high_care</th>\n",
       "      <th>updated</th>\n",
       "      <th>ecmo</th>\n",
       "      <th>created_at</th>\n",
       "    </tr>\n",
       "  </thead>\n",
       "  <tbody>\n",
       "    <tr>\n",
       "      <th>0</th>\n",
       "      <td>Kreisklinik Wolfratshausen, Moosbauerweg 5, 82...</td>\n",
       "      <td>Website</td>\n",
       "      <td>BY</td>\n",
       "      <td>green</td>\n",
       "      <td>green</td>\n",
       "      <td>28.03.2020, 08:48</td>\n",
       "      <td>NaN</td>\n",
       "      <td>2020-03-28 09:13:28</td>\n",
       "    </tr>\n",
       "    <tr>\n",
       "      <th>1</th>\n",
       "      <td>Klinikum-Bremen-Nord, Klinik für Anästhesiolog...</td>\n",
       "      <td>Intensivstation Website</td>\n",
       "      <td>HB</td>\n",
       "      <td>green</td>\n",
       "      <td>green</td>\n",
       "      <td>27.03.2020, 18:20</td>\n",
       "      <td>NaN</td>\n",
       "      <td>2020-03-28 09:13:28</td>\n",
       "    </tr>\n",
       "    <tr>\n",
       "      <th>2</th>\n",
       "      <td>Helios Frankenwaldklinik Kronach, Anästhesie, ...</td>\n",
       "      <td>4a Website</td>\n",
       "      <td>BY</td>\n",
       "      <td>yellow</td>\n",
       "      <td>yellow</td>\n",
       "      <td>27.03.2020, 17:00</td>\n",
       "      <td>NaN</td>\n",
       "      <td>2020-03-28 09:13:28</td>\n",
       "    </tr>\n",
       "    <tr>\n",
       "      <th>3</th>\n",
       "      <td>St. Irmgardis Süchteln GmbH, Anästhesiologie, ...</td>\n",
       "      <td>Intensivstation Website</td>\n",
       "      <td>NRW</td>\n",
       "      <td>green</td>\n",
       "      <td>green</td>\n",
       "      <td>27.03.2020, 16:10</td>\n",
       "      <td>NaN</td>\n",
       "      <td>2020-03-28 09:13:28</td>\n",
       "    </tr>\n",
       "    <tr>\n",
       "      <th>4</th>\n",
       "      <td>Schön Klinik Bad Staffelstein, Neurologie, Am ...</td>\n",
       "      <td>Frührehabiltation Website</td>\n",
       "      <td>BY</td>\n",
       "      <td>yellow</td>\n",
       "      <td>red</td>\n",
       "      <td>27.03.2020, 16:00</td>\n",
       "      <td>NaN</td>\n",
       "      <td>2020-03-28 09:13:28</td>\n",
       "    </tr>\n",
       "    <tr>\n",
       "      <th>...</th>\n",
       "      <td>...</td>\n",
       "      <td>...</td>\n",
       "      <td>...</td>\n",
       "      <td>...</td>\n",
       "      <td>...</td>\n",
       "      <td>...</td>\n",
       "      <td>...</td>\n",
       "      <td>...</td>\n",
       "    </tr>\n",
       "    <tr>\n",
       "      <th>725</th>\n",
       "      <td>Brüderkrankenhaus Trier, 3. medizinische Klini...</td>\n",
       "      <td>Intensivstation 1E Herzzentrum Website</td>\n",
       "      <td>RP</td>\n",
       "      <td>yellow</td>\n",
       "      <td>yellow</td>\n",
       "      <td>27.03.2020, 07:59</td>\n",
       "      <td>green</td>\n",
       "      <td>2020-03-27 20:13:29</td>\n",
       "    </tr>\n",
       "    <tr>\n",
       "      <th>726</th>\n",
       "      <td>Universitätsklinikum Hamburg-Eppendorf, Klinik...</td>\n",
       "      <td>Website</td>\n",
       "      <td>HH</td>\n",
       "      <td>green</td>\n",
       "      <td>green</td>\n",
       "      <td>26.03.2020, 12:50</td>\n",
       "      <td>green</td>\n",
       "      <td>2020-03-27 20:13:29</td>\n",
       "    </tr>\n",
       "    <tr>\n",
       "      <th>727</th>\n",
       "      <td>Universitätsklinikum Erlangen, Intensivmedizin...</td>\n",
       "      <td>Koordination Website</td>\n",
       "      <td>BY</td>\n",
       "      <td>green</td>\n",
       "      <td>green</td>\n",
       "      <td>27.03.2020, 15:15</td>\n",
       "      <td>green</td>\n",
       "      <td>2020-03-27 20:13:29</td>\n",
       "    </tr>\n",
       "    <tr>\n",
       "      <th>728</th>\n",
       "      <td>Klinikum Nürnberg, Klinik für Innere Medizin 3...</td>\n",
       "      <td>Website</td>\n",
       "      <td>BY</td>\n",
       "      <td>green</td>\n",
       "      <td>green</td>\n",
       "      <td>20.03.2013, 09:26</td>\n",
       "      <td>green</td>\n",
       "      <td>2020-03-27 20:13:29</td>\n",
       "    </tr>\n",
       "    <tr>\n",
       "      <th>729</th>\n",
       "      <td>Elisabeth-Krankenhaus Essen, Klinik für Akut u...</td>\n",
       "      <td>kardiologisch- internistische Intensivstation ...</td>\n",
       "      <td>NRW</td>\n",
       "      <td>green</td>\n",
       "      <td>green</td>\n",
       "      <td>26.03.2020, 16:15</td>\n",
       "      <td>green</td>\n",
       "      <td>2020-03-27 20:13:29</td>\n",
       "    </tr>\n",
       "  </tbody>\n",
       "</table>\n",
       "<p>40370 rows × 8 columns</p>\n",
       "</div>"
      ],
      "text/plain": [
       "                                              hospital  \\\n",
       "0    Kreisklinik Wolfratshausen, Moosbauerweg 5, 82...   \n",
       "1    Klinikum-Bremen-Nord, Klinik für Anästhesiolog...   \n",
       "2    Helios Frankenwaldklinik Kronach, Anästhesie, ...   \n",
       "3    St. Irmgardis Süchteln GmbH, Anästhesiologie, ...   \n",
       "4    Schön Klinik Bad Staffelstein, Neurologie, Am ...   \n",
       "..                                                 ...   \n",
       "725  Brüderkrankenhaus Trier, 3. medizinische Klini...   \n",
       "726  Universitätsklinikum Hamburg-Eppendorf, Klinik...   \n",
       "727  Universitätsklinikum Erlangen, Intensivmedizin...   \n",
       "728  Klinikum Nürnberg, Klinik für Innere Medizin 3...   \n",
       "729  Elisabeth-Krankenhaus Essen, Klinik für Akut u...   \n",
       "\n",
       "                                               contact  fed icu_low_care  \\\n",
       "0                                              Website   BY        green   \n",
       "1                              Intensivstation Website   HB        green   \n",
       "2                                           4a Website   BY       yellow   \n",
       "3                              Intensivstation Website  NRW        green   \n",
       "4                            Frührehabiltation Website   BY       yellow   \n",
       "..                                                 ...  ...          ...   \n",
       "725             Intensivstation 1E Herzzentrum Website   RP       yellow   \n",
       "726                                            Website   HH        green   \n",
       "727                               Koordination Website   BY        green   \n",
       "728                                            Website   BY        green   \n",
       "729  kardiologisch- internistische Intensivstation ...  NRW        green   \n",
       "\n",
       "    icu_high_care            updated   ecmo          created_at  \n",
       "0           green  28.03.2020, 08:48    NaN 2020-03-28 09:13:28  \n",
       "1           green  27.03.2020, 18:20    NaN 2020-03-28 09:13:28  \n",
       "2          yellow  27.03.2020, 17:00    NaN 2020-03-28 09:13:28  \n",
       "3           green  27.03.2020, 16:10    NaN 2020-03-28 09:13:28  \n",
       "4             red  27.03.2020, 16:00    NaN 2020-03-28 09:13:28  \n",
       "..            ...                ...    ...                 ...  \n",
       "725        yellow  27.03.2020, 07:59  green 2020-03-27 20:13:29  \n",
       "726         green  26.03.2020, 12:50  green 2020-03-27 20:13:29  \n",
       "727         green  27.03.2020, 15:15  green 2020-03-27 20:13:29  \n",
       "728         green  20.03.2013, 09:26  green 2020-03-27 20:13:29  \n",
       "729         green  26.03.2020, 16:15  green 2020-03-27 20:13:29  \n",
       "\n",
       "[40370 rows x 8 columns]"
      ]
     },
     "execution_count": 48,
     "metadata": {},
     "output_type": "execute_result"
    }
   ],
   "source": [
    "main_frame"
   ]
  },
  {
   "cell_type": "markdown",
   "metadata": {},
   "source": [
    "# Anzahl der Krankenhäuser pro Bundesland"
   ]
  },
  {
   "cell_type": "code",
   "execution_count": 49,
   "metadata": {},
   "outputs": [
    {
     "data": {
      "text/plain": [
       "<matplotlib.axes._subplots.AxesSubplot at 0x12be19e10>"
      ]
     },
     "execution_count": 49,
     "metadata": {},
     "output_type": "execute_result"
    },
    {
     "data": {
      "image/png": "[encoded data removed]",
      "text/plain": [
       "<Figure size 1224x360 with 1 Axes>"
      ]
     },
     "metadata": {
      "needs_background": "light"
     },
     "output_type": "display_data"
    }
   ],
   "source": [
    "fed_count = pd.DataFrame({'count' : main_frame.groupby('fed').count()['hospital']}).reset_index()\n",
    "fed_count = fed_count.sort_values(by=['count'], ascending=False)\n",
    "fed_count = fed_count.set_index('fed')\n",
    "\n",
    "fed_count.plot(kind='bar')"
   ]
  },
  {
   "cell_type": "markdown",
   "metadata": {},
   "source": [
    "# Anzahl der Betten - Intensivbetten ohne invasive Beatmungsmöglichkeit (Monitoring, Überwachung, ggf. nicht-invasive Beatmung möglich)"
   ]
  },
  {
   "cell_type": "code",
   "execution_count": 50,
   "metadata": {},
   "outputs": [
    {
     "data": {
      "text/plain": [
       "<matplotlib.axes._subplots.AxesSubplot at 0x12bc8a150>"
      ]
     },
     "execution_count": 50,
     "metadata": {},
     "output_type": "execute_result"
    },
    {
     "data": {
      "image/png": "[encoded data removed]",
      "text/plain": [
       "<Figure size 1224x360 with 1 Axes>"
      ]
     },
     "metadata": {
      "needs_background": "light"
     },
     "output_type": "display_data"
    }
   ],
   "source": [
    "status_icu_low_care_count = pd.DataFrame({'count' : youngest_frame.groupby('icu_low_care').count()['hospital']}).reset_index()\n",
    "status_icu_low_care_count  = status_icu_low_care_count.set_index('icu_low_care')\n",
    "\n",
    "status_icu_low_care_count.transpose().plot(kind=\"bar\", color=['green', 'red', 'yellow'])"
   ]
  },
  {
   "cell_type": "markdown",
   "metadata": {},
   "source": [
    "# Anzahl der Betten - Intensivbetten mit invasiver Beatmungsmöglichkeit (Beatmungsbetten)"
   ]
  },
  {
   "cell_type": "code",
   "execution_count": 51,
   "metadata": {},
   "outputs": [
    {
     "data": {
      "text/plain": [
       "<matplotlib.axes._subplots.AxesSubplot at 0x12dab2110>"
      ]
     },
     "execution_count": 51,
     "metadata": {},
     "output_type": "execute_result"
    },
    {
     "data": {
      "image/png": "[encoded data removed]",
      "text/plain": [
       "<Figure size 1224x360 with 1 Axes>"
      ]
     },
     "metadata": {
      "needs_background": "light"
     },
     "output_type": "display_data"
    }
   ],
   "source": [
    "status_icu_high_care_count = pd.DataFrame({'count' : youngest_frame.groupby('icu_high_care').count()['hospital']}).reset_index()\n",
    "status_icu_high_care_count  = status_icu_high_care_count.set_index('icu_high_care')\n",
    "\n",
    "status_icu_high_care_count.transpose().plot(kind=\"bar\", color=['green', 'red', 'yellow'])\n",
    "\n"
   ]
  },
  {
   "cell_type": "markdown",
   "metadata": {},
   "source": [
    "# Zeitlicher Verlauf der Betten-Belegung"
   ]
  },
  {
   "cell_type": "code",
   "execution_count": 52,
   "metadata": {},
   "outputs": [
    {
     "name": "stdout",
     "output_type": "stream",
     "text": [
      "                                                     All  freq\n",
      "0      (green, 28.03.2020, 08:48, Kreisklinik Wolfrat...     8\n",
      "1      (green, 27.03.2020, 18:20, Klinikum-Bremen-Nor...    22\n",
      "2      (yellow, 27.03.2020, 17:00, Helios Frankenwald...    24\n",
      "3      (green, 27.03.2020, 16:10, St. Irmgardis Sücht...    27\n",
      "4      (yellow, 27.03.2020, 16:00, Schön Klinik Bad S...    27\n",
      "...                                                  ...   ...\n",
      "40365  (yellow, 27.03.2020, 07:59, Brüderkrankenhaus ...    35\n",
      "40366  (green, 26.03.2020, 12:50, Universitätskliniku...    51\n",
      "40367  (green, 27.03.2020, 15:15, Universitätskliniku...    27\n",
      "40368  (green, 20.03.2013, 09:26, Klinikum Nürnberg, ...    53\n",
      "40369  (green, 26.03.2020, 16:15, Elisabeth-Krankenha...    51\n",
      "\n",
      "[40370 rows x 2 columns]\n"
     ]
    }
   ],
   "source": [
    "#pd.DataFrame({'count' : main_frame.groupby('updated').count()['hospital']}).reset_index()\n",
    "column_values = main_frame[[\"icu_low_care\", \"updated\", \"hospital\"]].values\n",
    "index = pd.Index(column_values)\n",
    "\n",
    "frame = index.to_frame()\n",
    "frame.columns = [\"All\"]\n",
    "frame = frame.reset_index().drop(['index'], axis=1)\n",
    "frame['freq'] = frame.groupby('All')['All'].transform('count')\n",
    "print(frame)"
   ]
  },
  {
   "cell_type": "code",
   "execution_count": 57,
   "metadata": {},
   "outputs": [
    {
     "data": {
      "text/html": [
       "<div>\n",
       "<style scoped>\n",
       "    .dataframe tbody tr th:only-of-type {\n",
       "        vertical-align: middle;\n",
       "    }\n",
       "\n",
       "    .dataframe tbody tr th {\n",
       "        vertical-align: top;\n",
       "    }\n",
       "\n",
       "    .dataframe thead th {\n",
       "        text-align: right;\n",
       "    }\n",
       "</style>\n",
       "<table border=\"1\" class=\"dataframe\">\n",
       "  <thead>\n",
       "    <tr style=\"text-align: right;\">\n",
       "      <th></th>\n",
       "      <th>hospital</th>\n",
       "      <th>contact</th>\n",
       "      <th>fed</th>\n",
       "      <th>icu_low_care</th>\n",
       "      <th>icu_high_care</th>\n",
       "      <th>updated</th>\n",
       "      <th>ecmo</th>\n",
       "      <th>created_at</th>\n",
       "    </tr>\n",
       "  </thead>\n",
       "  <tbody>\n",
       "    <tr>\n",
       "      <th>0</th>\n",
       "      <td>Kreisklinik Wolfratshausen, Moosbauerweg 5, 82...</td>\n",
       "      <td>Website</td>\n",
       "      <td>BY</td>\n",
       "      <td>green</td>\n",
       "      <td>green</td>\n",
       "      <td>28.03.2020, 08:48</td>\n",
       "      <td>NaN</td>\n",
       "      <td>2020-03-28 09:13:28</td>\n",
       "    </tr>\n",
       "    <tr>\n",
       "      <th>1</th>\n",
       "      <td>Klinikum-Bremen-Nord, Klinik für Anästhesiolog...</td>\n",
       "      <td>Intensivstation Website</td>\n",
       "      <td>HB</td>\n",
       "      <td>green</td>\n",
       "      <td>green</td>\n",
       "      <td>27.03.2020, 18:20</td>\n",
       "      <td>NaN</td>\n",
       "      <td>2020-03-28 09:13:28</td>\n",
       "    </tr>\n",
       "    <tr>\n",
       "      <th>2</th>\n",
       "      <td>Helios Frankenwaldklinik Kronach, Anästhesie, ...</td>\n",
       "      <td>4a Website</td>\n",
       "      <td>BY</td>\n",
       "      <td>yellow</td>\n",
       "      <td>yellow</td>\n",
       "      <td>27.03.2020, 17:00</td>\n",
       "      <td>NaN</td>\n",
       "      <td>2020-03-28 09:13:28</td>\n",
       "    </tr>\n",
       "    <tr>\n",
       "      <th>3</th>\n",
       "      <td>St. Irmgardis Süchteln GmbH, Anästhesiologie, ...</td>\n",
       "      <td>Intensivstation Website</td>\n",
       "      <td>NRW</td>\n",
       "      <td>green</td>\n",
       "      <td>green</td>\n",
       "      <td>27.03.2020, 16:10</td>\n",
       "      <td>NaN</td>\n",
       "      <td>2020-03-28 09:13:28</td>\n",
       "    </tr>\n",
       "    <tr>\n",
       "      <th>4</th>\n",
       "      <td>Schön Klinik Bad Staffelstein, Neurologie, Am ...</td>\n",
       "      <td>Frührehabiltation Website</td>\n",
       "      <td>BY</td>\n",
       "      <td>yellow</td>\n",
       "      <td>red</td>\n",
       "      <td>27.03.2020, 16:00</td>\n",
       "      <td>NaN</td>\n",
       "      <td>2020-03-28 09:13:28</td>\n",
       "    </tr>\n",
       "    <tr>\n",
       "      <th>...</th>\n",
       "      <td>...</td>\n",
       "      <td>...</td>\n",
       "      <td>...</td>\n",
       "      <td>...</td>\n",
       "      <td>...</td>\n",
       "      <td>...</td>\n",
       "      <td>...</td>\n",
       "      <td>...</td>\n",
       "    </tr>\n",
       "    <tr>\n",
       "      <th>542</th>\n",
       "      <td>EvangelischeElisabeth Klinik Berlin, Anästhesi...</td>\n",
       "      <td>Intensivstation 7 Website</td>\n",
       "      <td>BE</td>\n",
       "      <td>yellow</td>\n",
       "      <td>yellow</td>\n",
       "      <td>26.03.2020, 11:25</td>\n",
       "      <td>NaN</td>\n",
       "      <td>2020-03-26 16:13:56</td>\n",
       "    </tr>\n",
       "    <tr>\n",
       "      <th>557</th>\n",
       "      <td>Universitätsklinikum Marien Hospital Herne, In...</td>\n",
       "      <td>interdisziplinäre Intensivstation Website</td>\n",
       "      <td>NRW</td>\n",
       "      <td>green</td>\n",
       "      <td>green</td>\n",
       "      <td>26.03.2020, 09:29</td>\n",
       "      <td>green</td>\n",
       "      <td>2020-03-26 16:13:56</td>\n",
       "    </tr>\n",
       "    <tr>\n",
       "      <th>131</th>\n",
       "      <td>Klinik Kitzinger Land, Anästhesie, Intensiv- u...</td>\n",
       "      <td>Interdisziplinäre Intensivstation Website</td>\n",
       "      <td>BY</td>\n",
       "      <td>green</td>\n",
       "      <td>green</td>\n",
       "      <td>27.03.2020, 07:26</td>\n",
       "      <td>NaN</td>\n",
       "      <td>2020-03-27 07:13:31</td>\n",
       "    </tr>\n",
       "    <tr>\n",
       "      <th>237</th>\n",
       "      <td>Diakonie-Klinikum Stuttgart, Rosenbergstraße 3...</td>\n",
       "      <td>Covid ITS/ IMC Website</td>\n",
       "      <td>BW</td>\n",
       "      <td>yellow</td>\n",
       "      <td>red</td>\n",
       "      <td>27.03.2020, 08:13</td>\n",
       "      <td>NaN</td>\n",
       "      <td>2020-03-27 07:13:31</td>\n",
       "    </tr>\n",
       "    <tr>\n",
       "      <th>680</th>\n",
       "      <td>Barmherzige Brüder München, Klinik für Anästhe...</td>\n",
       "      <td>Intensivstation A und B Website</td>\n",
       "      <td>BY</td>\n",
       "      <td>green</td>\n",
       "      <td>green</td>\n",
       "      <td>27.03.2020, 07:25</td>\n",
       "      <td>green</td>\n",
       "      <td>2020-03-27 07:13:31</td>\n",
       "    </tr>\n",
       "  </tbody>\n",
       "</table>\n",
       "<p>2063 rows × 8 columns</p>\n",
       "</div>"
      ],
      "text/plain": [
       "                                              hospital  \\\n",
       "0    Kreisklinik Wolfratshausen, Moosbauerweg 5, 82...   \n",
       "1    Klinikum-Bremen-Nord, Klinik für Anästhesiolog...   \n",
       "2    Helios Frankenwaldklinik Kronach, Anästhesie, ...   \n",
       "3    St. Irmgardis Süchteln GmbH, Anästhesiologie, ...   \n",
       "4    Schön Klinik Bad Staffelstein, Neurologie, Am ...   \n",
       "..                                                 ...   \n",
       "542  EvangelischeElisabeth Klinik Berlin, Anästhesi...   \n",
       "557  Universitätsklinikum Marien Hospital Herne, In...   \n",
       "131  Klinik Kitzinger Land, Anästhesie, Intensiv- u...   \n",
       "237  Diakonie-Klinikum Stuttgart, Rosenbergstraße 3...   \n",
       "680  Barmherzige Brüder München, Klinik für Anästhe...   \n",
       "\n",
       "                                       contact  fed icu_low_care  \\\n",
       "0                                      Website   BY        green   \n",
       "1                      Intensivstation Website   HB        green   \n",
       "2                                   4a Website   BY       yellow   \n",
       "3                      Intensivstation Website  NRW        green   \n",
       "4                    Frührehabiltation Website   BY       yellow   \n",
       "..                                         ...  ...          ...   \n",
       "542                  Intensivstation 7 Website   BE       yellow   \n",
       "557  interdisziplinäre Intensivstation Website  NRW        green   \n",
       "131  Interdisziplinäre Intensivstation Website   BY        green   \n",
       "237                     Covid ITS/ IMC Website   BW       yellow   \n",
       "680            Intensivstation A und B Website   BY        green   \n",
       "\n",
       "    icu_high_care            updated   ecmo          created_at  \n",
       "0           green  28.03.2020, 08:48    NaN 2020-03-28 09:13:28  \n",
       "1           green  27.03.2020, 18:20    NaN 2020-03-28 09:13:28  \n",
       "2          yellow  27.03.2020, 17:00    NaN 2020-03-28 09:13:28  \n",
       "3           green  27.03.2020, 16:10    NaN 2020-03-28 09:13:28  \n",
       "4             red  27.03.2020, 16:00    NaN 2020-03-28 09:13:28  \n",
       "..            ...                ...    ...                 ...  \n",
       "542        yellow  26.03.2020, 11:25    NaN 2020-03-26 16:13:56  \n",
       "557         green  26.03.2020, 09:29  green 2020-03-26 16:13:56  \n",
       "131         green  27.03.2020, 07:26    NaN 2020-03-27 07:13:31  \n",
       "237           red  27.03.2020, 08:13    NaN 2020-03-27 07:13:31  \n",
       "680         green  27.03.2020, 07:25  green 2020-03-27 07:13:31  \n",
       "\n",
       "[2063 rows x 8 columns]"
      ]
     },
     "execution_count": 57,
     "metadata": {},
     "output_type": "execute_result"
    }
   ],
   "source": [
    "index = pd.Index([2, 2, 2, 5,5,5,5,5,5, 3, 4,4,4,4])\n",
    "index.value_counts()\n",
    "\n",
    "main_frame = main_frame.drop_duplicates(subset=df.columns.difference(['created_at']), keep='first', inplace=False)\n",
    "main_frame"
   ]
  },
  {
   "cell_type": "code",
   "execution_count": 63,
   "metadata": {},
   "outputs": [
    {
     "ename": "AttributeError",
     "evalue": "'Series' object has no attribute 'Date'",
     "output_type": "error",
     "traceback": [
      "\u001b[0;31m---------------------------------------------------------------------------\u001b[0m",
      "\u001b[0;31mAttributeError\u001b[0m                            Traceback (most recent call last)",
      "\u001b[0;32m<ipython-input-63-7cc1c91a73c0>\u001b[0m in \u001b[0;36m<module>\u001b[0;34m\u001b[0m\n\u001b[1;32m      1\u001b[0m \u001b[0;31m# main_frame[\"created_at\"].plot(kind=\"line\")\u001b[0m\u001b[0;34m\u001b[0m\u001b[0;34m\u001b[0m\u001b[0;34m\u001b[0m\u001b[0m\n\u001b[1;32m      2\u001b[0m \u001b[0;34m\u001b[0m\u001b[0m\n\u001b[0;32m----> 3\u001b[0;31m \u001b[0mmain_frame\u001b[0m\u001b[0;34m[\u001b[0m\u001b[0;34m\"updated\"\u001b[0m\u001b[0;34m]\u001b[0m \u001b[0;34m=\u001b[0m \u001b[0mmain_frame\u001b[0m\u001b[0;34m[\u001b[0m\u001b[0;34m\"updated\"\u001b[0m\u001b[0;34m]\u001b[0m\u001b[0;34m.\u001b[0m\u001b[0mDate\u001b[0m\u001b[0;34m.\u001b[0m\u001b[0mAddHours\u001b[0m\u001b[0;34m(\u001b[0m\u001b[0md\u001b[0m\u001b[0;34m.\u001b[0m\u001b[0mHour\u001b[0m\u001b[0;34m)\u001b[0m\u001b[0;34m\u001b[0m\u001b[0;34m\u001b[0m\u001b[0m\n\u001b[0m",
      "\u001b[0;32m/usr/local/lib/python3.7/site-packages/pandas/core/generic.py\u001b[0m in \u001b[0;36m__getattr__\u001b[0;34m(self, name)\u001b[0m\n\u001b[1;32m   5272\u001b[0m             \u001b[0;32mif\u001b[0m \u001b[0mself\u001b[0m\u001b[0;34m.\u001b[0m\u001b[0m_info_axis\u001b[0m\u001b[0;34m.\u001b[0m\u001b[0m_can_hold_identifiers_and_holds_name\u001b[0m\u001b[0;34m(\u001b[0m\u001b[0mname\u001b[0m\u001b[0;34m)\u001b[0m\u001b[0;34m:\u001b[0m\u001b[0;34m\u001b[0m\u001b[0;34m\u001b[0m\u001b[0m\n\u001b[1;32m   5273\u001b[0m                 \u001b[0;32mreturn\u001b[0m \u001b[0mself\u001b[0m\u001b[0;34m[\u001b[0m\u001b[0mname\u001b[0m\u001b[0;34m]\u001b[0m\u001b[0;34m\u001b[0m\u001b[0;34m\u001b[0m\u001b[0m\n\u001b[0;32m-> 5274\u001b[0;31m             \u001b[0;32mreturn\u001b[0m \u001b[0mobject\u001b[0m\u001b[0;34m.\u001b[0m\u001b[0m__getattribute__\u001b[0m\u001b[0;34m(\u001b[0m\u001b[0mself\u001b[0m\u001b[0;34m,\u001b[0m \u001b[0mname\u001b[0m\u001b[0;34m)\u001b[0m\u001b[0;34m\u001b[0m\u001b[0;34m\u001b[0m\u001b[0m\n\u001b[0m\u001b[1;32m   5275\u001b[0m \u001b[0;34m\u001b[0m\u001b[0m\n\u001b[1;32m   5276\u001b[0m     \u001b[0;32mdef\u001b[0m \u001b[0m__setattr__\u001b[0m\u001b[0;34m(\u001b[0m\u001b[0mself\u001b[0m\u001b[0;34m,\u001b[0m \u001b[0mname\u001b[0m\u001b[0;34m:\u001b[0m \u001b[0mstr\u001b[0m\u001b[0;34m,\u001b[0m \u001b[0mvalue\u001b[0m\u001b[0;34m)\u001b[0m \u001b[0;34m->\u001b[0m \u001b[0;32mNone\u001b[0m\u001b[0;34m:\u001b[0m\u001b[0;34m\u001b[0m\u001b[0;34m\u001b[0m\u001b[0m\n",
      "\u001b[0;31mAttributeError\u001b[0m: 'Series' object has no attribute 'Date'"
     ]
    }
   ],
   "source": [
    "# main_frame[\"created_at\"].plot(kind=\"line\")\n",
    "\n",
    "main_frame[\"updated\"] = main_frame[\"updated\"].Date.AddHours(d.Hour)"
   ]
  },
  {
   "cell_type": "code",
   "execution_count": null,
   "metadata": {},
   "outputs": [],
   "source": []
  }
 ],
 "metadata": {
  "kernelspec": {
   "display_name": "Python 3",
   "language": "python",
   "name": "python3"
  },
  "language_info": {
   "codemirror_mode": {
    "name": "ipython",
    "version": 3
   },
   "file_extension": ".py",
   "mimetype": "text/x-python",
   "name": "python",
   "nbconvert_exporter": "python",
   "pygments_lexer": "ipython3",
   "version": "3.7.5"
  }
 },
 "nbformat": 4,
 "nbformat_minor": 4
}
